{
 "cells": [
  {
   "cell_type": "code",
   "execution_count": 100,
   "id": "b3edf7e4",
   "metadata": {},
   "outputs": [],
   "source": [
    "import pandas as pd\n",
    "import pickle\n",
    "\n",
    "from sklearn.model_selection import train_test_split\n",
    "from sklearn.ensemble import RandomForestClassifier \n",
    "from sklearn import metrics\n",
    "\n",
    "# contains 33 columns\n",
    "dataset_url = \"https://raw.githubusercontent.com/ejai215/PumpData/main/PumpTrialData.csv\"\n",
    "df = pd.read_csv(dataset_url, dtype = {'status': str})\n",
    "\n",
    "#df.info()"
   ]
  },
  {
   "cell_type": "code",
   "execution_count": 101,
   "id": "7ab80ba7",
   "metadata": {},
   "outputs": [
    {
     "data": {
      "text/html": [
       "<div>\n",
       "<style scoped>\n",
       "    .dataframe tbody tr th:only-of-type {\n",
       "        vertical-align: middle;\n",
       "    }\n",
       "\n",
       "    .dataframe tbody tr th {\n",
       "        vertical-align: top;\n",
       "    }\n",
       "\n",
       "    .dataframe thead th {\n",
       "        text-align: right;\n",
       "    }\n",
       "</style>\n",
       "<table border=\"1\" class=\"dataframe\">\n",
       "  <thead>\n",
       "    <tr style=\"text-align: right;\">\n",
       "      <th></th>\n",
       "      <th>mean</th>\n",
       "      <th>max</th>\n",
       "      <th>kurtosis</th>\n",
       "      <th>variance</th>\n",
       "      <th>onenorm</th>\n",
       "      <th>mean1</th>\n",
       "      <th>max1</th>\n",
       "      <th>kurtosis1</th>\n",
       "      <th>variance1</th>\n",
       "      <th>onenorm1</th>\n",
       "      <th>status</th>\n",
       "    </tr>\n",
       "  </thead>\n",
       "  <tbody>\n",
       "    <tr>\n",
       "      <th>0</th>\n",
       "      <td>-0.000020</td>\n",
       "      <td>6.976752</td>\n",
       "      <td>16.087093</td>\n",
       "      <td>0.111425</td>\n",
       "      <td>1.331746e+06</td>\n",
       "      <td>0.009558</td>\n",
       "      <td>33.622414</td>\n",
       "      <td>14.502220</td>\n",
       "      <td>7.907688</td>\n",
       "      <td>1.331746e+06</td>\n",
       "      <td>healthy</td>\n",
       "    </tr>\n",
       "    <tr>\n",
       "      <th>1</th>\n",
       "      <td>-0.000019</td>\n",
       "      <td>8.932420</td>\n",
       "      <td>13.212736</td>\n",
       "      <td>0.168242</td>\n",
       "      <td>1.055655e+06</td>\n",
       "      <td>0.002954</td>\n",
       "      <td>31.216814</td>\n",
       "      <td>12.244360</td>\n",
       "      <td>9.195284</td>\n",
       "      <td>1.055655e+06</td>\n",
       "      <td>healthy</td>\n",
       "    </tr>\n",
       "    <tr>\n",
       "      <th>2</th>\n",
       "      <td>-0.000047</td>\n",
       "      <td>7.912361</td>\n",
       "      <td>20.831987</td>\n",
       "      <td>0.147405</td>\n",
       "      <td>8.091255e+05</td>\n",
       "      <td>-0.005104</td>\n",
       "      <td>31.110516</td>\n",
       "      <td>12.372426</td>\n",
       "      <td>7.772573</td>\n",
       "      <td>8.091255e+05</td>\n",
       "      <td>healthy</td>\n",
       "    </tr>\n",
       "    <tr>\n",
       "      <th>3</th>\n",
       "      <td>-0.000557</td>\n",
       "      <td>35.947502</td>\n",
       "      <td>121.832101</td>\n",
       "      <td>1.085911</td>\n",
       "      <td>8.734991e+05</td>\n",
       "      <td>-0.002305</td>\n",
       "      <td>43.457676</td>\n",
       "      <td>12.853174</td>\n",
       "      <td>10.110199</td>\n",
       "      <td>8.734991e+05</td>\n",
       "      <td>severe</td>\n",
       "    </tr>\n",
       "    <tr>\n",
       "      <th>4</th>\n",
       "      <td>-0.000187</td>\n",
       "      <td>38.968124</td>\n",
       "      <td>258.544464</td>\n",
       "      <td>0.497547</td>\n",
       "      <td>7.341528e+05</td>\n",
       "      <td>0.008319</td>\n",
       "      <td>41.962177</td>\n",
       "      <td>19.590730</td>\n",
       "      <td>8.234116</td>\n",
       "      <td>7.341528e+05</td>\n",
       "      <td>severe</td>\n",
       "    </tr>\n",
       "    <tr>\n",
       "      <th>5</th>\n",
       "      <td>-0.000018</td>\n",
       "      <td>9.643638</td>\n",
       "      <td>15.326156</td>\n",
       "      <td>0.279534</td>\n",
       "      <td>8.025657e+05</td>\n",
       "      <td>0.001750</td>\n",
       "      <td>25.930376</td>\n",
       "      <td>10.431742</td>\n",
       "      <td>7.587827</td>\n",
       "      <td>8.025657e+05</td>\n",
       "      <td>mild</td>\n",
       "    </tr>\n",
       "    <tr>\n",
       "      <th>6</th>\n",
       "      <td>-0.000027</td>\n",
       "      <td>10.764830</td>\n",
       "      <td>18.766446</td>\n",
       "      <td>0.272053</td>\n",
       "      <td>9.320243e+05</td>\n",
       "      <td>-0.012957</td>\n",
       "      <td>31.705729</td>\n",
       "      <td>14.242486</td>\n",
       "      <td>8.241828</td>\n",
       "      <td>9.320243e+05</td>\n",
       "      <td>mild</td>\n",
       "    </tr>\n",
       "    <tr>\n",
       "      <th>7</th>\n",
       "      <td>-0.000031</td>\n",
       "      <td>17.285910</td>\n",
       "      <td>23.876656</td>\n",
       "      <td>0.289634</td>\n",
       "      <td>1.159193e+06</td>\n",
       "      <td>0.002627</td>\n",
       "      <td>35.263622</td>\n",
       "      <td>15.428007</td>\n",
       "      <td>8.892908</td>\n",
       "      <td>1.159193e+06</td>\n",
       "      <td>mild</td>\n",
       "    </tr>\n",
       "    <tr>\n",
       "      <th>8</th>\n",
       "      <td>-0.000035</td>\n",
       "      <td>9.878329</td>\n",
       "      <td>13.000129</td>\n",
       "      <td>0.322394</td>\n",
       "      <td>7.737499e+05</td>\n",
       "      <td>0.001732</td>\n",
       "      <td>34.895790</td>\n",
       "      <td>12.630840</td>\n",
       "      <td>10.714051</td>\n",
       "      <td>7.737499e+05</td>\n",
       "      <td>mild2</td>\n",
       "    </tr>\n",
       "    <tr>\n",
       "      <th>9</th>\n",
       "      <td>-0.000028</td>\n",
       "      <td>20.735569</td>\n",
       "      <td>30.076660</td>\n",
       "      <td>0.303420</td>\n",
       "      <td>8.079769e+05</td>\n",
       "      <td>0.002309</td>\n",
       "      <td>31.753214</td>\n",
       "      <td>14.187264</td>\n",
       "      <td>8.578910</td>\n",
       "      <td>8.079769e+05</td>\n",
       "      <td>mild2</td>\n",
       "    </tr>\n",
       "    <tr>\n",
       "      <th>10</th>\n",
       "      <td>0.000028</td>\n",
       "      <td>9.170563</td>\n",
       "      <td>7.641464</td>\n",
       "      <td>0.524186</td>\n",
       "      <td>1.671091e+06</td>\n",
       "      <td>0.004385</td>\n",
       "      <td>43.532635</td>\n",
       "      <td>9.699158</td>\n",
       "      <td>16.598744</td>\n",
       "      <td>1.671091e+06</td>\n",
       "      <td>mild2</td>\n",
       "    </tr>\n",
       "  </tbody>\n",
       "</table>\n",
       "</div>"
      ],
      "text/plain": [
       "        mean        max    kurtosis  variance       onenorm     mean1  \\\n",
       "0  -0.000020   6.976752   16.087093  0.111425  1.331746e+06  0.009558   \n",
       "1  -0.000019   8.932420   13.212736  0.168242  1.055655e+06  0.002954   \n",
       "2  -0.000047   7.912361   20.831987  0.147405  8.091255e+05 -0.005104   \n",
       "3  -0.000557  35.947502  121.832101  1.085911  8.734991e+05 -0.002305   \n",
       "4  -0.000187  38.968124  258.544464  0.497547  7.341528e+05  0.008319   \n",
       "5  -0.000018   9.643638   15.326156  0.279534  8.025657e+05  0.001750   \n",
       "6  -0.000027  10.764830   18.766446  0.272053  9.320243e+05 -0.012957   \n",
       "7  -0.000031  17.285910   23.876656  0.289634  1.159193e+06  0.002627   \n",
       "8  -0.000035   9.878329   13.000129  0.322394  7.737499e+05  0.001732   \n",
       "9  -0.000028  20.735569   30.076660  0.303420  8.079769e+05  0.002309   \n",
       "10  0.000028   9.170563    7.641464  0.524186  1.671091e+06  0.004385   \n",
       "\n",
       "         max1  kurtosis1  variance1      onenorm1   status  \n",
       "0   33.622414  14.502220   7.907688  1.331746e+06  healthy  \n",
       "1   31.216814  12.244360   9.195284  1.055655e+06  healthy  \n",
       "2   31.110516  12.372426   7.772573  8.091255e+05  healthy  \n",
       "3   43.457676  12.853174  10.110199  8.734991e+05   severe  \n",
       "4   41.962177  19.590730   8.234116  7.341528e+05   severe  \n",
       "5   25.930376  10.431742   7.587827  8.025657e+05     mild  \n",
       "6   31.705729  14.242486   8.241828  9.320243e+05     mild  \n",
       "7   35.263622  15.428007   8.892908  1.159193e+06     mild  \n",
       "8   34.895790  12.630840  10.714051  7.737499e+05    mild2  \n",
       "9   31.753214  14.187264   8.578910  8.079769e+05    mild2  \n",
       "10  43.532635   9.699158  16.598744  1.671091e+06    mild2  "
      ]
     },
     "execution_count": 101,
     "metadata": {},
     "output_type": "execute_result"
    }
   ],
   "source": [
    "#df.info()\n",
    "df.head(11)"
   ]
  },
  {
   "cell_type": "code",
   "execution_count": 102,
   "id": "f5a88ae7",
   "metadata": {},
   "outputs": [],
   "source": [
    "df['status'] = df['status'].map({'healthy':0,'mild':1,'mild2':2,'severe':3})\n",
    "#df[' max']    #.map({'severe':'s'})\n",
    "#print(df.to_string())\n",
    "\n",
    "train, test = train_test_split(df, test_size = 0.2)\n",
    "\n",
    "features = [ 'mean', 'max', 'kurtosis', 'variance','onenorm' ]\n",
    "\n",
    "train_X = train[features]\n",
    "train_y =train.status\n",
    "\n",
    "test_X = test[features]\n",
    "test_y = test.status\n"
   ]
  },
  {
   "cell_type": "code",
   "execution_count": 103,
   "id": "a5768ffd",
   "metadata": {},
   "outputs": [],
   "source": [
    "#df.head(5)"
   ]
  },
  {
   "cell_type": "code",
   "execution_count": 104,
   "id": "c3606aef",
   "metadata": {},
   "outputs": [],
   "source": [
    "#print(train_y)"
   ]
  },
  {
   "cell_type": "code",
   "execution_count": 105,
   "id": "0907c464",
   "metadata": {},
   "outputs": [
    {
     "name": "stdout",
     "output_type": "stream",
     "text": [
      "[1 0 3 1 2 2 0]\n"
     ]
    },
    {
     "data": {
      "text/plain": [
       "1.0"
      ]
     },
     "execution_count": 105,
     "metadata": {},
     "output_type": "execute_result"
    }
   ],
   "source": [
    "model = RandomForestClassifier(n_estimators=200, n_jobs=-1)\n",
    "model.fit(train_X,train_y)\n",
    "\n",
    "prediction = model.predict(test_X)\n",
    "print(prediction)\n",
    "metrics.accuracy_score(prediction,test_y)"
   ]
  },
  {
   "cell_type": "code",
   "execution_count": 106,
   "id": "e871b035",
   "metadata": {},
   "outputs": [
    {
     "data": {
      "text/plain": [
       "Index(['mean', 'max', 'kurtosis', 'variance', 'onenorm'], dtype='object')"
      ]
     },
     "execution_count": 106,
     "metadata": {},
     "output_type": "execute_result"
    }
   ],
   "source": [
    "test_X.columns"
   ]
  },
  {
   "cell_type": "code",
   "execution_count": 107,
   "id": "5fe6060d",
   "metadata": {},
   "outputs": [
    {
     "name": "stdout",
     "output_type": "stream",
     "text": [
      "[0]\n"
     ]
    }
   ],
   "source": [
    "data = [[-0.000021,6.976753,16.087094,0.111426,1.331747e+06]]\n",
    "\n",
    "# New dataframe for only the columns of interest\n",
    "dfNew = pd.DataFrame(data, columns = ['mean', 'max', 'kurtosis', 'variance', 'onenorm'])\n",
    "single = model.predict(dfNew)\n",
    "print(single)"
   ]
  },
  {
   "cell_type": "code",
   "execution_count": 108,
   "id": "0a2bf2d4",
   "metadata": {},
   "outputs": [
    {
     "name": "stdout",
     "output_type": "stream",
     "text": [
      "       mean       max   kurtosis  variance    onenorm\n",
      "0 -0.000021  6.976753  16.087094  0.111426  1331747.0\n"
     ]
    }
   ],
   "source": [
    "print(dfNew)"
   ]
  },
  {
   "cell_type": "code",
   "execution_count": 109,
   "id": "69893f78",
   "metadata": {},
   "outputs": [],
   "source": [
    "#print(test_X)"
   ]
  },
  {
   "cell_type": "code",
   "execution_count": 110,
   "id": "dd8f70ea",
   "metadata": {},
   "outputs": [],
   "source": [
    "#print(test_y)"
   ]
  },
  {
   "cell_type": "code",
   "execution_count": 111,
   "id": "783a9771",
   "metadata": {},
   "outputs": [],
   "source": [
    "fname = 'PumpStatusModel.pkl'\n",
    "pickle.dump(model, open(fname, 'wb'))"
   ]
  }
 ],
 "metadata": {
  "kernelspec": {
   "display_name": "Python 3 (ipykernel)",
   "language": "python",
   "name": "python3"
  },
  "language_info": {
   "codemirror_mode": {
    "name": "ipython",
    "version": 3
   },
   "file_extension": ".py",
   "mimetype": "text/x-python",
   "name": "python",
   "nbconvert_exporter": "python",
   "pygments_lexer": "ipython3",
   "version": "3.9.13"
  }
 },
 "nbformat": 4,
 "nbformat_minor": 5
}
